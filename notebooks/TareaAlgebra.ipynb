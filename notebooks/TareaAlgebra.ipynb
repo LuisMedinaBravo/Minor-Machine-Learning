{
  "nbformat": 4,
  "nbformat_minor": 0,
  "metadata": {
    "colab": {
      "name": "Untitled0.ipynb",
      "provenance": [],
      "authorship_tag": "ABX9TyOW54ylYAPgIt/FPC6yY//R",
      "include_colab_link": true
    },
    "kernelspec": {
      "name": "python3",
      "display_name": "Python 3"
    },
    "language_info": {
      "name": "python"
    }
  },
  "cells": [
    {
      "cell_type": "markdown",
      "metadata": {
        "id": "view-in-github",
        "colab_type": "text"
      },
      "source": [
        "<a href=\"https://colab.research.google.com/github/LuisMedinaBravo/Minor-Machine-Learning/blob/main/notebooks/TareaAlgebra.ipynb\" target=\"_parent\"><img src=\"https://colab.research.google.com/assets/colab-badge.svg\" alt=\"Open In Colab\"/></a>"
      ]
    },
    {
      "cell_type": "markdown",
      "source": [
        "Tarea Corta Algebra:\n",
        "\n",
        "Si 2 boletos de adulto y 1 boleto de niño cuestan 32 pesos, y si 1 boleto de adulto y 3 boletos de niño cuestan 36 pesos, ¿cuál es el precio de cada uno?\n",
        "\n",
        "x=adulto\n",
        "y=niño\n",
        "\n",
        "2x + y = 32     \n",
        "x + 3y = 36"
      ],
      "metadata": {
        "id": "f2314Vdww3TU"
      }
    },
    {
      "cell_type": "code",
      "execution_count": null,
      "metadata": {
        "colab": {
          "base_uri": "https://localhost:8080/"
        },
        "id": "3PAsfXZev-5Y",
        "outputId": "bd3d4532-92e2-4d24-f65d-352f682890fc"
      },
      "outputs": [
        {
          "output_type": "stream",
          "name": "stdout",
          "text": [
            "[12.  8.]\n"
          ]
        }
      ],
      "source": [
        "import numpy as np\n",
        "\n",
        "a = np.array([[2,1],[1,3]])\n",
        "b = np.array([32,36])\n",
        "\n",
        "x = np.linalg.solve(a,b)\n",
        "print(x)"
      ]
    }
  ]
}