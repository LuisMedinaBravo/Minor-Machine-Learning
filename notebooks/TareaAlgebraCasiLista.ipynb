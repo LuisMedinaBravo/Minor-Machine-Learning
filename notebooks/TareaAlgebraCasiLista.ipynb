{
  "nbformat": 4,
  "nbformat_minor": 0,
  "metadata": {
    "colab": {
      "name": "Untitled0.ipynb",
      "provenance": [],
      "authorship_tag": "ABX9TyOJTDU+EpAi9BtAh1zLrfwa",
      "include_colab_link": true
    },
    "kernelspec": {
      "name": "python3",
      "display_name": "Python 3"
    },
    "language_info": {
      "name": "python"
    }
  },
  "cells": [
    {
      "cell_type": "markdown",
      "metadata": {
        "id": "view-in-github",
        "colab_type": "text"
      },
      "source": [
        "<a href=\"https://colab.research.google.com/github/LuisMedinaBravo/Minor-Machine-Learning/blob/main/notebooks/TareaAlgebraCasiLista.ipynb\" target=\"_parent\"><img src=\"https://colab.research.google.com/assets/colab-badge.svg\" alt=\"Open In Colab\"/></a>"
      ]
    },
    {
      "cell_type": "markdown",
      "source": [
        "Tarea Corta Algebra:\n",
        "\n",
        "Si 2 boletos de adulto y 1 boleto de niño cuestan 32 pesos, y si 1 boleto de adulto y 3 boletos de niño cuestan 36 pesos, ¿cuál es el precio de cada uno?\n",
        "\n",
        "x=adulto\n",
        "y=niño\n",
        "\n",
        "2x + y = 32     \n",
        "x + 3y = 36"
      ],
      "metadata": {
        "id": "f2314Vdww3TU"
      }
    },
    {
      "cell_type": "code",
      "execution_count": 39,
      "metadata": {
        "colab": {
          "base_uri": "https://localhost:8080/"
        },
        "id": "3PAsfXZev-5Y",
        "outputId": "11730615-958d-4823-e460-7ae3c780ecd2"
      },
      "outputs": [
        {
          "output_type": "stream",
          "name": "stdout",
          "text": [
            "12.0\n",
            "8.0\n"
          ]
        }
      ],
      "source": [
        "import numpy as np\n",
        "\n",
        "a = np.array([[2,1],[1,3]])\n",
        "b = np.array([32,36])\n",
        "\n",
        "solucion = np.linalg.solve(a,b)\n",
        "\n",
        "print(solucion[0])\n",
        "print(solucion[1])"
      ]
    },
    {
      "cell_type": "code",
      "source": [
        "\n",
        "from matplotlib import pyplot\n",
        "\n",
        "#Funcines Lineal.\n",
        "def f(x):\n",
        "    return (2*x) + solucion[1] -32\n",
        "def f1(x):\n",
        "    return x + (3*solucion[1]) -36\n",
        "\n",
        "\n",
        "#En esta variable se genra una lista a partir de los valores -10 y 10.\n",
        "#Todos estos valores seran los que tomara x.\n",
        "x = range(1, 20)\n",
        "\n",
        "#Con el metodo plot especificamos que función graficaremos.\n",
        "#El primer argumento es la variable con los valores de x.\n",
        "#El segundo argumento le pasamos todos estos valares a la función con ayuda de un bucle.\n",
        "pyplot.plot(x, [f(i) for i in x])\n",
        "pyplot.plot(x, [f1(i) for i in x])\n",
        "\n",
        "#Establecemos el color de los ejes.\n",
        "pyplot.axhline(0, color=\"black\")\n",
        "pyplot.axvline(0, color=\"black\")\n",
        "\n",
        "#Especificamos los limites de los ejes.\n",
        "pyplot.xlim(11, 19)\n",
        "pyplot.ylim(-5, 8)\n",
        "\n",
        "#Guardamos el grafico en una imagen \"png\".\n",
        "pyplot.savefig(\"función_lineal.png\")\n",
        "\n",
        "# Mostramos el grafico.\n",
        "pyplot.show()\n",
        "\n",
        "\n"
      ],
      "metadata": {
        "colab": {
          "base_uri": "https://localhost:8080/",
          "height": 269
        },
        "id": "f99AlmUvyQ68",
        "outputId": "53f1ac26-50c9-459d-f8d6-04dc4899f774"
      },
      "execution_count": 110,
      "outputs": [
        {
          "output_type": "display_data",
          "data": {
            "text/plain": [
              "<Figure size 432x288 with 1 Axes>"
            ],
            "image/png": "[encoded data removed]"
          },
          "metadata": {
            "needs_background": "light"
          }
        }
      ]
    }
  ]
}